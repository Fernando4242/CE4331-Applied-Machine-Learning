{
 "cells": [
  {
   "cell_type": "code",
   "execution_count": 1,
   "metadata": {},
   "outputs": [],
   "source": [
    "import pandas as pd\n",
    "import numpy as np\n",
    "import matplotlib.pyplot as plt\n",
    "\n",
    "from sklearn.ensemble import RandomForestClassifier \n",
    "from sklearn.tree import DecisionTreeClassifier\n",
    "\n",
    "from sklearn.metrics import auc,roc_curve,precision_recall_fscore_support\n",
    "from sklearn.metrics import classification_report, plot_confusion_matrix\n",
    "from sklearn.model_selection import GridSearchCV"
   ]
  },
  {
   "cell_type": "markdown",
   "metadata": {},
   "source": [
    "The data is weather data for New York city. TRaining data is from Oct 2012 to Dec 2015. Validation data is from Jan 2016 to \n",
    "Dec 2016"
   ]
  },
  {
   "cell_type": "code",
   "execution_count": 2,
   "metadata": {},
   "outputs": [],
   "source": [
    "train = pd.read_csv('train_weather_nyc.csv',index_col='Date',parse_dates=True) # pandas dataframe\n",
    "val = pd.read_csv('val_weather_nyc.csv',index_col='Date',parse_dates=True)"
   ]
  },
  {
   "cell_type": "code",
   "execution_count": 5,
   "metadata": {
    "scrolled": true
   },
   "outputs": [
    {
     "data": {
      "text/html": [
       "<div>\n",
       "<style scoped>\n",
       "    .dataframe tbody tr th:only-of-type {\n",
       "        vertical-align: middle;\n",
       "    }\n",
       "\n",
       "    .dataframe tbody tr th {\n",
       "        vertical-align: top;\n",
       "    }\n",
       "\n",
       "    .dataframe thead th {\n",
       "        text-align: right;\n",
       "    }\n",
       "</style>\n",
       "<table border=\"1\" class=\"dataframe\">\n",
       "  <thead>\n",
       "    <tr style=\"text-align: right;\">\n",
       "      <th></th>\n",
       "      <th>humidity</th>\n",
       "      <th>pressure</th>\n",
       "      <th>temperature</th>\n",
       "      <th>wind_direction</th>\n",
       "      <th>wind_speed</th>\n",
       "      <th>rain_prob</th>\n",
       "      <th>label</th>\n",
       "    </tr>\n",
       "    <tr>\n",
       "      <th>Date</th>\n",
       "      <th></th>\n",
       "      <th></th>\n",
       "      <th></th>\n",
       "      <th></th>\n",
       "      <th></th>\n",
       "      <th></th>\n",
       "      <th></th>\n",
       "    </tr>\n",
       "  </thead>\n",
       "  <tbody>\n",
       "    <tr>\n",
       "      <th>2015-12-27</th>\n",
       "      <td>85.000000</td>\n",
       "      <td>1018.458333</td>\n",
       "      <td>283.769449</td>\n",
       "      <td>172.333333</td>\n",
       "      <td>3.208333</td>\n",
       "      <td>0.343750</td>\n",
       "      <td>1</td>\n",
       "    </tr>\n",
       "    <tr>\n",
       "      <th>2015-12-28</th>\n",
       "      <td>60.083333</td>\n",
       "      <td>1025.291667</td>\n",
       "      <td>278.963545</td>\n",
       "      <td>206.750000</td>\n",
       "      <td>4.500000</td>\n",
       "      <td>0.375000</td>\n",
       "      <td>1</td>\n",
       "    </tr>\n",
       "    <tr>\n",
       "      <th>2015-12-29</th>\n",
       "      <td>85.291667</td>\n",
       "      <td>1022.708333</td>\n",
       "      <td>276.262428</td>\n",
       "      <td>108.416667</td>\n",
       "      <td>5.083333</td>\n",
       "      <td>0.354167</td>\n",
       "      <td>1</td>\n",
       "    </tr>\n",
       "    <tr>\n",
       "      <th>2015-12-30</th>\n",
       "      <td>88.916667</td>\n",
       "      <td>1023.458333</td>\n",
       "      <td>277.663850</td>\n",
       "      <td>92.458333</td>\n",
       "      <td>1.666667</td>\n",
       "      <td>0.354167</td>\n",
       "      <td>1</td>\n",
       "    </tr>\n",
       "    <tr>\n",
       "      <th>2015-12-31</th>\n",
       "      <td>82.708333</td>\n",
       "      <td>1018.708333</td>\n",
       "      <td>280.300591</td>\n",
       "      <td>248.541667</td>\n",
       "      <td>2.750000</td>\n",
       "      <td>0.427083</td>\n",
       "      <td>1</td>\n",
       "    </tr>\n",
       "  </tbody>\n",
       "</table>\n",
       "</div>"
      ],
      "text/plain": [
       "             humidity     pressure  temperature  wind_direction  wind_speed  \\\n",
       "Date                                                                          \n",
       "2015-12-27  85.000000  1018.458333   283.769449      172.333333    3.208333   \n",
       "2015-12-28  60.083333  1025.291667   278.963545      206.750000    4.500000   \n",
       "2015-12-29  85.291667  1022.708333   276.262428      108.416667    5.083333   \n",
       "2015-12-30  88.916667  1023.458333   277.663850       92.458333    1.666667   \n",
       "2015-12-31  82.708333  1018.708333   280.300591      248.541667    2.750000   \n",
       "\n",
       "            rain_prob  label  \n",
       "Date                          \n",
       "2015-12-27   0.343750      1  \n",
       "2015-12-28   0.375000      1  \n",
       "2015-12-29   0.354167      1  \n",
       "2015-12-30   0.354167      1  \n",
       "2015-12-31   0.427083      1  "
      ]
     },
     "execution_count": 5,
     "metadata": {},
     "output_type": "execute_result"
    }
   ],
   "source": [
    "train.tail(5)"
   ]
  },
  {
   "cell_type": "code",
   "execution_count": 7,
   "metadata": {},
   "outputs": [
    {
     "data": {
      "text/html": [
       "<div>\n",
       "<style scoped>\n",
       "    .dataframe tbody tr th:only-of-type {\n",
       "        vertical-align: middle;\n",
       "    }\n",
       "\n",
       "    .dataframe tbody tr th {\n",
       "        vertical-align: top;\n",
       "    }\n",
       "\n",
       "    .dataframe thead th {\n",
       "        text-align: right;\n",
       "    }\n",
       "</style>\n",
       "<table border=\"1\" class=\"dataframe\">\n",
       "  <thead>\n",
       "    <tr style=\"text-align: right;\">\n",
       "      <th></th>\n",
       "      <th>humidity</th>\n",
       "      <th>pressure</th>\n",
       "      <th>temperature</th>\n",
       "      <th>wind_direction</th>\n",
       "      <th>wind_speed</th>\n",
       "      <th>rain_prob</th>\n",
       "      <th>label</th>\n",
       "    </tr>\n",
       "    <tr>\n",
       "      <th>Date</th>\n",
       "      <th></th>\n",
       "      <th></th>\n",
       "      <th></th>\n",
       "      <th></th>\n",
       "      <th></th>\n",
       "      <th></th>\n",
       "      <th></th>\n",
       "    </tr>\n",
       "  </thead>\n",
       "  <tbody>\n",
       "    <tr>\n",
       "      <th>2016-12-27</th>\n",
       "      <td>76.958333</td>\n",
       "      <td>1014.458333</td>\n",
       "      <td>283.730000</td>\n",
       "      <td>246.125000</td>\n",
       "      <td>4.791667</td>\n",
       "      <td>0.281250</td>\n",
       "      <td>1</td>\n",
       "    </tr>\n",
       "    <tr>\n",
       "      <th>2016-12-28</th>\n",
       "      <td>56.791667</td>\n",
       "      <td>1017.458333</td>\n",
       "      <td>277.164583</td>\n",
       "      <td>296.833333</td>\n",
       "      <td>2.625000</td>\n",
       "      <td>0.125000</td>\n",
       "      <td>0</td>\n",
       "    </tr>\n",
       "    <tr>\n",
       "      <th>2016-12-29</th>\n",
       "      <td>77.500000</td>\n",
       "      <td>1012.791667</td>\n",
       "      <td>274.462917</td>\n",
       "      <td>212.916667</td>\n",
       "      <td>2.708333</td>\n",
       "      <td>0.031250</td>\n",
       "      <td>1</td>\n",
       "    </tr>\n",
       "    <tr>\n",
       "      <th>2016-12-30</th>\n",
       "      <td>64.000000</td>\n",
       "      <td>1003.416667</td>\n",
       "      <td>275.349167</td>\n",
       "      <td>277.291667</td>\n",
       "      <td>4.833333</td>\n",
       "      <td>0.010417</td>\n",
       "      <td>0</td>\n",
       "    </tr>\n",
       "    <tr>\n",
       "      <th>2016-12-31</th>\n",
       "      <td>62.958333</td>\n",
       "      <td>1017.125000</td>\n",
       "      <td>274.341667</td>\n",
       "      <td>243.458333</td>\n",
       "      <td>3.750000</td>\n",
       "      <td>0.010417</td>\n",
       "      <td>0</td>\n",
       "    </tr>\n",
       "  </tbody>\n",
       "</table>\n",
       "</div>"
      ],
      "text/plain": [
       "             humidity     pressure  temperature  wind_direction  wind_speed  \\\n",
       "Date                                                                          \n",
       "2016-12-27  76.958333  1014.458333   283.730000      246.125000    4.791667   \n",
       "2016-12-28  56.791667  1017.458333   277.164583      296.833333    2.625000   \n",
       "2016-12-29  77.500000  1012.791667   274.462917      212.916667    2.708333   \n",
       "2016-12-30  64.000000  1003.416667   275.349167      277.291667    4.833333   \n",
       "2016-12-31  62.958333  1017.125000   274.341667      243.458333    3.750000   \n",
       "\n",
       "            rain_prob  label  \n",
       "Date                          \n",
       "2016-12-27   0.281250      1  \n",
       "2016-12-28   0.125000      0  \n",
       "2016-12-29   0.031250      1  \n",
       "2016-12-30   0.010417      0  \n",
       "2016-12-31   0.010417      0  "
      ]
     },
     "execution_count": 7,
     "metadata": {},
     "output_type": "execute_result"
    }
   ],
   "source": [
    "val.tail() # default = 5"
   ]
  },
  {
   "cell_type": "markdown",
   "metadata": {},
   "source": [
    "Next, we need to decide the number of previous days we need for predicting rain on a given day. \n",
    "\n",
    "<img src = \"rain_labels.png\">"
   ]
  },
  {
   "cell_type": "code",
   "execution_count": 12,
   "metadata": {},
   "outputs": [
    {
     "data": {
      "text/html": [
       "<div>\n",
       "<style scoped>\n",
       "    .dataframe tbody tr th:only-of-type {\n",
       "        vertical-align: middle;\n",
       "    }\n",
       "\n",
       "    .dataframe tbody tr th {\n",
       "        vertical-align: top;\n",
       "    }\n",
       "\n",
       "    .dataframe thead th {\n",
       "        text-align: right;\n",
       "    }\n",
       "</style>\n",
       "<table border=\"1\" class=\"dataframe\">\n",
       "  <thead>\n",
       "    <tr style=\"text-align: right;\">\n",
       "      <th></th>\n",
       "      <th>humidity</th>\n",
       "      <th>pressure</th>\n",
       "      <th>temperature</th>\n",
       "      <th>wind_direction</th>\n",
       "      <th>wind_speed</th>\n",
       "      <th>rain_prob</th>\n",
       "      <th>label</th>\n",
       "    </tr>\n",
       "  </thead>\n",
       "  <tbody>\n",
       "    <tr>\n",
       "      <th>count</th>\n",
       "      <td>1187.000000</td>\n",
       "      <td>1187.000000</td>\n",
       "      <td>1187.000000</td>\n",
       "      <td>1187.000000</td>\n",
       "      <td>1187.000000</td>\n",
       "      <td>1187.000000</td>\n",
       "      <td>1187.000000</td>\n",
       "    </tr>\n",
       "    <tr>\n",
       "      <th>mean</th>\n",
       "      <td>67.326984</td>\n",
       "      <td>1016.829403</td>\n",
       "      <td>284.636947</td>\n",
       "      <td>199.382194</td>\n",
       "      <td>3.199010</td>\n",
       "      <td>0.168303</td>\n",
       "      <td>0.581297</td>\n",
       "    </tr>\n",
       "    <tr>\n",
       "      <th>std</th>\n",
       "      <td>14.295169</td>\n",
       "      <td>9.886293</td>\n",
       "      <td>9.876013</td>\n",
       "      <td>74.206606</td>\n",
       "      <td>1.671223</td>\n",
       "      <td>0.209258</td>\n",
       "      <td>0.493554</td>\n",
       "    </tr>\n",
       "    <tr>\n",
       "      <th>min</th>\n",
       "      <td>28.416667</td>\n",
       "      <td>974.833333</td>\n",
       "      <td>259.019750</td>\n",
       "      <td>22.708333</td>\n",
       "      <td>0.444444</td>\n",
       "      <td>0.000000</td>\n",
       "      <td>0.000000</td>\n",
       "    </tr>\n",
       "    <tr>\n",
       "      <th>25%</th>\n",
       "      <td>57.648810</td>\n",
       "      <td>1012.125000</td>\n",
       "      <td>276.963626</td>\n",
       "      <td>147.500000</td>\n",
       "      <td>2.000000</td>\n",
       "      <td>0.010417</td>\n",
       "      <td>0.000000</td>\n",
       "    </tr>\n",
       "    <tr>\n",
       "      <th>50%</th>\n",
       "      <td>68.208333</td>\n",
       "      <td>1017.166667</td>\n",
       "      <td>285.377575</td>\n",
       "      <td>211.625000</td>\n",
       "      <td>2.833333</td>\n",
       "      <td>0.093750</td>\n",
       "      <td>1.000000</td>\n",
       "    </tr>\n",
       "    <tr>\n",
       "      <th>75%</th>\n",
       "      <td>78.312500</td>\n",
       "      <td>1022.697917</td>\n",
       "      <td>293.563396</td>\n",
       "      <td>254.107955</td>\n",
       "      <td>3.958333</td>\n",
       "      <td>0.250000</td>\n",
       "      <td>1.000000</td>\n",
       "    </tr>\n",
       "    <tr>\n",
       "      <th>max</th>\n",
       "      <td>98.583333</td>\n",
       "      <td>1049.625000</td>\n",
       "      <td>304.698333</td>\n",
       "      <td>341.791667</td>\n",
       "      <td>12.375000</td>\n",
       "      <td>1.000000</td>\n",
       "      <td>1.000000</td>\n",
       "    </tr>\n",
       "  </tbody>\n",
       "</table>\n",
       "</div>"
      ],
      "text/plain": [
       "          humidity     pressure  temperature  wind_direction   wind_speed  \\\n",
       "count  1187.000000  1187.000000  1187.000000     1187.000000  1187.000000   \n",
       "mean     67.326984  1016.829403   284.636947      199.382194     3.199010   \n",
       "std      14.295169     9.886293     9.876013       74.206606     1.671223   \n",
       "min      28.416667   974.833333   259.019750       22.708333     0.444444   \n",
       "25%      57.648810  1012.125000   276.963626      147.500000     2.000000   \n",
       "50%      68.208333  1017.166667   285.377575      211.625000     2.833333   \n",
       "75%      78.312500  1022.697917   293.563396      254.107955     3.958333   \n",
       "max      98.583333  1049.625000   304.698333      341.791667    12.375000   \n",
       "\n",
       "         rain_prob        label  \n",
       "count  1187.000000  1187.000000  \n",
       "mean      0.168303     0.581297  \n",
       "std       0.209258     0.493554  \n",
       "min       0.000000     0.000000  \n",
       "25%       0.010417     0.000000  \n",
       "50%       0.093750     1.000000  \n",
       "75%       0.250000     1.000000  \n",
       "max       1.000000     1.000000  "
      ]
     },
     "execution_count": 12,
     "metadata": {},
     "output_type": "execute_result"
    }
   ],
   "source": [
    "train.describe()"
   ]
  },
  {
   "cell_type": "code",
   "execution_count": 8,
   "metadata": {},
   "outputs": [
    {
     "data": {
      "text/plain": [
       "6"
      ]
     },
     "execution_count": 8,
     "metadata": {},
     "output_type": "execute_result"
    }
   ],
   "source": [
    "win = 2  # number of previous days' data to use\n",
    "dim = train.shape[1] - 1 # number of features per day"
   ]
  },
  {
   "cell_type": "raw",
   "metadata": {},
   "source": [
    "The training/validation data is created as follows:\n",
    "\n",
    "The input features for entry 'k' are the concatenation of previous day's (k-1,k-2) features. Each day has 6 features. \n",
    "The output for entry 'k' is the label of day 'k'\n"
   ]
  },
  {
   "cell_type": "code",
   "execution_count": 9,
   "metadata": {},
   "outputs": [],
   "source": [
    "# Training dataset\n",
    "\n",
    "xy = train.values # raw values as numpy array\n",
    "x = xy[:,:dim] # 6 columns\n",
    "y = xy[:,dim] # label column\n",
    "\n",
    "x_train = np.array([])\n",
    "y_train = np.zeros(x.shape[0] - win)\n",
    "\n",
    "for i in range(0,x.shape[0] - win):\n",
    "    tr_x = x[i:i+win,:].ravel()  # convert into 1-D array (0:2,1:3,2:4,3:5...)\n",
    "    tr_y = y[i+win] # next day weather (2,3,4,5,...)\n",
    "    if not x_train.size:\n",
    "        x_train = tr_x[np.newaxis,...]\n",
    "        \n",
    "    else:\n",
    "        x_train = np.r_[x_train,tr_x[np.newaxis,...]]\n",
    "    y_train[i] = tr_y\n",
    "    "
   ]
  },
  {
   "cell_type": "code",
   "execution_count": 10,
   "metadata": {},
   "outputs": [],
   "source": [
    "# Validation dataset\n",
    "\n",
    "xy = val.values\n",
    "x = xy[:,:dim]\n",
    "y = xy[:,dim]\n",
    "\n",
    "x_val = np.array([])\n",
    "y_val = np.zeros(x.shape[0] - win)\n",
    "\n",
    "for i in range(0,x.shape[0] - win):\n",
    "    tr_x = x[i:i+win,:].ravel() # convert into 1-D array\n",
    "    tr_y = y[i+win] # next day weather\n",
    "    if not x_val.size:\n",
    "        x_val = tr_x[np.newaxis,...]\n",
    "        \n",
    "    else:\n",
    "        x_val = np.r_[x_val,tr_x[np.newaxis,...]]\n",
    "    y_val[i] = tr_y\n",
    "    "
   ]
  },
  {
   "cell_type": "code",
   "execution_count": 11,
   "metadata": {},
   "outputs": [
    {
     "data": {
      "text/plain": [
       "(1185, 12)"
      ]
     },
     "execution_count": 11,
     "metadata": {},
     "output_type": "execute_result"
    }
   ],
   "source": [
    "x_train.shape"
   ]
  },
  {
   "cell_type": "code",
   "execution_count": 13,
   "metadata": {},
   "outputs": [
    {
     "data": {
      "text/plain": [
       "(364, 12)"
      ]
     },
     "execution_count": 13,
     "metadata": {},
     "output_type": "execute_result"
    }
   ],
   "source": [
    "x_val.shape"
   ]
  },
  {
   "cell_type": "code",
   "execution_count": 14,
   "metadata": {},
   "outputs": [
    {
     "data": {
      "text/plain": [
       "(1185,)"
      ]
     },
     "execution_count": 14,
     "metadata": {},
     "output_type": "execute_result"
    }
   ],
   "source": [
    "y_train.shape"
   ]
  },
  {
   "cell_type": "markdown",
   "metadata": {},
   "source": [
    "# Decision Tree model"
   ]
  },
  {
   "cell_type": "code",
   "execution_count": 15,
   "metadata": {},
   "outputs": [],
   "source": [
    "dt_mdl = DecisionTreeClassifier().fit(x_train,y_train)"
   ]
  },
  {
   "cell_type": "code",
   "execution_count": 16,
   "metadata": {
    "scrolled": true
   },
   "outputs": [
    {
     "data": {
      "text/plain": [
       "array([[0., 1.],\n",
       "       [0., 1.],\n",
       "       [0., 1.],\n",
       "       ...,\n",
       "       [0., 1.],\n",
       "       [0., 1.],\n",
       "       [0., 1.]])"
      ]
     },
     "execution_count": 16,
     "metadata": {},
     "output_type": "execute_result"
    }
   ],
   "source": [
    "score = dt_mdl.predict_proba(x_train) # gives probability score for each class [no-rain, rain]\n",
    "score\n",
    "# [0.38, 0.62]  --> 68% prob that example belongs to class 1 and 38% prob that example belongs to class 0 marginally confident\n",
    "# [0.49, 0.51]  --> 51% prob that example belongs to class 1 and 49% prob that example belongs to class 0 not confident\n",
    "# [0.01, 0.99]  --> 99% prob that example belongs to class 1 and 1% prob that example belongs to class 0  HF"
   ]
  },
  {
   "cell_type": "code",
   "execution_count": 18,
   "metadata": {},
   "outputs": [
    {
     "data": {
      "text/plain": [
       "array([1., 1., 1., ..., 1., 1., 1.])"
      ]
     },
     "execution_count": 18,
     "metadata": {},
     "output_type": "execute_result"
    }
   ],
   "source": [
    "pred = dt_mdl.predict(x_train) # directly gives you class label predictions\n",
    "pred"
   ]
  },
  {
   "cell_type": "raw",
   "metadata": {},
   "source": [
    "# Evaluation metrics\n",
    "\n",
    "Confusion matrix:\n",
    "                      | pred_1 | pred_1\n",
    "                ------|--------|-------\n",
    "                ACT_1 |   TP   |  FN\n",
    "                ACT_0 |   FP   |  TN\n",
    "                \n",
    "ACT_1 = Actual positives (rain)      = TP (True Positives) + FN (False Negatives)\n",
    "ACT_0 = Actual negatives (non-rain)  = TP (True Negatives) + FN (False Positives)\n",
    "\n",
    "pred_1 = Predicted positives  = TP  + FP \n",
    "pred_0 = Predicted negatives  = TN  + FN \n",
    "\n",
    "Sensitivity (Se) = TP/(TP + FN)  # Recall\n",
    "Precision (PPV)  = TP/(TP + FP)  #Positive Predictive Value\n",
    "F1-Score (F1)    = (2*TP)/((2*TP) + FP + FN)\n",
    " \n",
    "We use the predict_proba function to determine the predicted probabilities for each example. Then we can use a threshold (default = 0.5) to decide which examples belong to class 1 ( >= 0.5) and which belong to class 0 (< 0.5). This can be used in combination with an ROC curve  (to determine the best thresolds) to get the best results"
   ]
  },
  {
   "cell_type": "code",
   "execution_count": 22,
   "metadata": {},
   "outputs": [
    {
     "name": "stdout",
     "output_type": "stream",
     "text": [
      "Training data\n",
      "-------------\n",
      "              precision    recall  f1-score   support\n",
      "\n",
      "         0.0       1.00      1.00      1.00       495\n",
      "         1.0       1.00      1.00      1.00       690\n",
      "\n",
      "    accuracy                           1.00      1185\n",
      "   macro avg       1.00      1.00      1.00      1185\n",
      "weighted avg       1.00      1.00      1.00      1185\n",
      "\n",
      "PPV:\t1.0\n",
      "Se:\t1.0\n",
      "FSc:\t1.0\n",
      "\n",
      "Validation data\n",
      "---------------\n",
      "              precision    recall  f1-score   support\n",
      "\n",
      "         0.0       0.55      0.58      0.57       140\n",
      "         1.0       0.73      0.71      0.72       224\n",
      "\n",
      "    accuracy                           0.66       364\n",
      "   macro avg       0.64      0.64      0.64       364\n",
      "weighted avg       0.66      0.66      0.66       364\n",
      "\n",
      "PPV:\t0.7293577981651376\n",
      "Se:\t0.7098214285714286\n",
      "FSc:\t0.7194570135746606\n"
     ]
    },
    {
     "data": {
      "text/plain": [
       "Text(0.5, 1.0, 'Validation')"
      ]
     },
     "execution_count": 22,
     "metadata": {},
     "output_type": "execute_result"
    },
    {
     "data": {
      "image/png": "[encoded data removed]",
      "text/plain": [
       "<Figure size 432x288 with 2 Axes>"
      ]
     },
     "metadata": {
      "needs_background": "light"
     },
     "output_type": "display_data"
    },
    {
     "data": {
      "image/png": "[encoded data removed]",
      "text/plain": [
       "<Figure size 432x288 with 2 Axes>"
      ]
     },
     "metadata": {
      "needs_background": "light"
     },
     "output_type": "display_data"
    }
   ],
   "source": [
    "\n",
    "thr = 0.5\n",
    "print('Training data')\n",
    "print('-------------')\n",
    "y_score0 = dt_mdl.predict_proba(x_train)  #probability scores\n",
    "y_pred0 = np.zeros(x_train.shape[0])\n",
    "y_pred0[np.where(y_score0[:,1] >= thr)[0]] = 1\n",
    "\n",
    "print(classification_report(y_train,y_pred0))\n",
    "metrics = ['PPV','Se','FSc']\n",
    "for i,j in zip(metrics,precision_recall_fscore_support(y_train,y_pred0,average='binary')[:3]):\n",
    "    print('{}:\\t{}'.format(i,j))\n",
    "    \n",
    "\n",
    "p1 = plot_confusion_matrix(dt_mdl, x_train, y_train,\n",
    "                                 \n",
    "                                 cmap=plt.cm.Blues,\n",
    "                                 )\n",
    "p1.ax_.set_title('Training')  \n",
    "    \n",
    "print()\n",
    "print('Validation data')\n",
    "print('---------------')\n",
    "\n",
    "y_scorev = dt_mdl.predict_proba(x_val)\n",
    "y_predv = np.zeros(x_val.shape[0])\n",
    "y_predv[np.where(y_scorev[:,1] >= thr)[0]] = 1\n",
    "\n",
    "\n",
    "print(classification_report(y_val,y_predv))\n",
    "metrics = ['PPV','Se','FSc']\n",
    "for i,j in zip(metrics,precision_recall_fscore_support(y_val,y_predv,average='binary')[:3]):\n",
    "    print('{}:\\t{}'.format(i,j))\n",
    "    \n",
    "\n",
    "p2 = plot_confusion_matrix(dt_mdl, x_val, y_val,\n",
    "                                 \n",
    "                                 cmap=plt.cm.Blues,\n",
    "                                 )\n",
    "p2.ax_.set_title('Validation')  \n"
   ]
  },
  {
   "cell_type": "code",
   "execution_count": 23,
   "metadata": {},
   "outputs": [
    {
     "data": {
      "image/png": "[encoded data removed]",
      "text/plain": [
       "<Figure size 720x504 with 1 Axes>"
      ]
     },
     "metadata": {
      "needs_background": "light"
     },
     "output_type": "display_data"
    }
   ],
   "source": [
    "# Computing AUC and ROC curve for logistic regression model on validation data\n",
    "\n",
    "# fp_rate_lr  : false positive rate for Logistic Regression model\n",
    "# tp_rate_lr  : true positive rate for Logistic Regression model\n",
    "# auc_rate_lr : AUC for Logistic Regression model\n",
    "\n",
    "fp_rate_lr,tp_rate_lr,_ = roc_curve(y_val,y_scorev[:,1]) # column 1 meets criteria where prob >= 0.5 corresponds to class-1\n",
    "auc_val_lr = auc(fp_rate_lr,tp_rate_lr)\n",
    "\n",
    "plt.figure(figsize=(10,7))\n",
    "plt.plot(fp_rate_lr,tp_rate_lr,label='ROC Curve (AUC : {:.2f})'.format(auc_val_lr),color='red')\n",
    "plt.plot([0, 1], [0, 1], color='blue', linestyle='-.')\n",
    "plt.title('ROC curve for Decision Tree model')\n",
    "plt.xlabel('False Positve Rate')\n",
    "plt.ylabel('True Positve Rate')\n",
    "plt.xlim([0, 1])\n",
    "plt.ylim([0, 1])\n",
    "\n",
    "plt.legend()\n",
    "plt.show()"
   ]
  },
  {
   "cell_type": "markdown",
   "metadata": {},
   "source": [
    "# Random Forests"
   ]
  },
  {
   "cell_type": "code",
   "execution_count": 24,
   "metadata": {
    "scrolled": false
   },
   "outputs": [],
   "source": [
    "rf_mdl = RandomForestClassifier(random_state=np.random.seed(5)).fit(x_train,y_train)"
   ]
  },
  {
   "cell_type": "code",
   "execution_count": 25,
   "metadata": {
    "scrolled": false
   },
   "outputs": [
    {
     "name": "stdout",
     "output_type": "stream",
     "text": [
      "Training data\n",
      "-------------\n",
      "              precision    recall  f1-score   support\n",
      "\n",
      "         0.0       1.00      1.00      1.00       495\n",
      "         1.0       1.00      1.00      1.00       690\n",
      "\n",
      "    accuracy                           1.00      1185\n",
      "   macro avg       1.00      1.00      1.00      1185\n",
      "weighted avg       1.00      1.00      1.00      1185\n",
      "\n",
      "PPV:\t1.0\n",
      "Se:\t1.0\n",
      "FSc:\t1.0\n",
      "\n",
      "Validation data\n",
      "-------------\n",
      "              precision    recall  f1-score   support\n",
      "\n",
      "         0.0       0.61      0.54      0.57       140\n",
      "         1.0       0.73      0.78      0.76       224\n",
      "\n",
      "    accuracy                           0.69       364\n",
      "   macro avg       0.67      0.66      0.66       364\n",
      "weighted avg       0.68      0.69      0.69       364\n",
      "\n",
      "PPV:\t0.7322175732217573\n",
      "Se:\t0.78125\n",
      "FSc:\t0.755939524838013\n"
     ]
    },
    {
     "data": {
      "text/plain": [
       "Text(0.5, 1.0, 'Validation')"
      ]
     },
     "execution_count": 25,
     "metadata": {},
     "output_type": "execute_result"
    },
    {
     "data": {
      "image/png": "[encoded data removed]",
      "text/plain": [
       "<Figure size 432x288 with 2 Axes>"
      ]
     },
     "metadata": {
      "needs_background": "light"
     },
     "output_type": "display_data"
    },
    {
     "data": {
      "image/png": "[encoded data removed]",
      "text/plain": [
       "<Figure size 432x288 with 2 Axes>"
      ]
     },
     "metadata": {
      "needs_background": "light"
     },
     "output_type": "display_data"
    }
   ],
   "source": [
    "thr = 0.5\n",
    "print('Training data')\n",
    "print('-------------')\n",
    "\n",
    "y_score0 = rf_mdl.predict_proba(x_train)\n",
    "y_pred0 = np.zeros(x_train.shape[0])\n",
    "y_pred0[np.where(y_score0[:,1] >= thr)[0]] = 1\n",
    "\n",
    "\n",
    "print(classification_report(y_train,y_pred0))\n",
    "metrics = ['PPV','Se','FSc']\n",
    "for i,j in zip(metrics,precision_recall_fscore_support(y_train,y_pred0,average='binary')[:3]):\n",
    "    print('{}:\\t{}'.format(i,j))\n",
    "\n",
    "    \n",
    "p1 = plot_confusion_matrix(rf_mdl, x_train, y_train,\n",
    "                                 \n",
    "                                 cmap=plt.cm.Blues,\n",
    "                                 )\n",
    "p1.ax_.set_title('Training')    \n",
    "print()\n",
    "print('Validation data')\n",
    "print('-------------')\n",
    "\n",
    "y_scorev = rf_mdl.predict_proba(x_val)\n",
    "y_predv = np.zeros(x_val.shape[0])\n",
    "y_predv[np.where(y_scorev[:,1] >= thr)[0]] = 1\n",
    "\n",
    "\n",
    "print(classification_report(y_val,y_predv))\n",
    "metrics = ['PPV','Se','FSc']\n",
    "for i,j in zip(metrics,precision_recall_fscore_support(y_val,y_predv,average='binary')[:3]):\n",
    "    print('{}:\\t{}'.format(i,j))\n",
    "\n",
    "\n",
    "        \n",
    "p2 = plot_confusion_matrix(rf_mdl, x_val, y_val,\n",
    "                                 \n",
    "                                 cmap=plt.cm.Blues,\n",
    "                                 )\n",
    "\n",
    "p2.ax_.set_title('Validation') "
   ]
  },
  {
   "cell_type": "code",
   "execution_count": 26,
   "metadata": {},
   "outputs": [
    {
     "data": {
      "image/png": "[encoded data removed]",
      "text/plain": [
       "<Figure size 720x504 with 1 Axes>"
      ]
     },
     "metadata": {
      "needs_background": "light"
     },
     "output_type": "display_data"
    }
   ],
   "source": [
    "# Computing AUC and ROC curve for logistic regression model on validation data\n",
    "\n",
    "# fp_rate_lr  : false positive rate for Logistic Regression model\n",
    "# tp_rate_lr  : true positive rate for Logistic Regression model\n",
    "# auc_rate_lr : AUC for Logistic Regression model\n",
    "\n",
    "fp_rate_lr,tp_rate_lr,_ = roc_curve(y_val,y_scorev[:,1]) # column 1 meets criteria where prob >= 0.5 corresponds to class-1\n",
    "auc_val_lr = auc(fp_rate_lr,tp_rate_lr)\n",
    "\n",
    "plt.figure(figsize=(10,7))\n",
    "plt.plot(fp_rate_lr,tp_rate_lr,label='ROC Curve (AUC : {:.2f})'.format(auc_val_lr),color='red')\n",
    "plt.plot([0, 1], [0, 1], color='blue', linestyle='-.')\n",
    "plt.title('ROC curve for Random Forests model')\n",
    "plt.xlabel('False Positve Rate')\n",
    "plt.ylabel('True Positve Rate')\n",
    "plt.xlim([0, 1])\n",
    "plt.ylim([0, 1])\n",
    "\n",
    "plt.legend()\n",
    "plt.show()"
   ]
  },
  {
   "cell_type": "code",
   "execution_count": 39,
   "metadata": {},
   "outputs": [],
   "source": [
    "# Hyperparameters for Random Forests model\n",
    "\n",
    "no_feat = x_train.shape[1]  # number of features in the input\n",
    "\n",
    "learn_alg = RandomForestClassifier()\n",
    "# Search space\n",
    "\n",
    "num_trees = [int(i) for i in range(10,100,5)]   # number of trees   [10,15,20,25..100]\n",
    "class_wt = ['balanced']  # class weight\n",
    "min_samples_leaf = [int(i) for i in np.arange(start=1,stop=20,step=5)] #   [1,6,11,16]\n",
    "max_depth = [int(i) for i in np.arange(start=1,stop=25,step=2)] # maximum depth of tree  [1,3,5,7,11,...]\n",
    "                                                                # (low values generally help reduce overfitting)\n",
    "max_depth.append(None)\n",
    "\n",
    "mdl_params = {'n_estimators': num_trees,\n",
    "               'class_weight': class_wt,\n",
    "               'min_samples_leaf':min_samples_leaf,\n",
    "               'max_depth': max_depth,\n",
    "\n",
    "                }\n",
    "# dict ->{key:value}"
   ]
  },
  {
   "cell_type": "code",
   "execution_count": 40,
   "metadata": {},
   "outputs": [
    {
     "name": "stdout",
     "output_type": "stream",
     "text": [
      "18\n",
      "1\n",
      "4\n",
      "13\n"
     ]
    }
   ],
   "source": [
    "print(len(num_trees))\n",
    "print(len(class_wt))\n",
    "print(len(min_samples_leaf))\n",
    "print(len(max_depth))"
   ]
  },
  {
   "cell_type": "code",
   "execution_count": 41,
   "metadata": {},
   "outputs": [
    {
     "name": "stdout",
     "output_type": "stream",
     "text": [
      "[0, 1, 2, 3, 4, 1, 2, 3, 4, 5, 2, 3, 4, 5, 6, 3, 4, 5, 6, 7, 4, 5, 6, 7, 8]\n"
     ]
    }
   ],
   "source": [
    "a = []\n",
    "for i in range(5):\n",
    "    for j in range(5):\n",
    "        a.append(i+j)\n",
    "print(a)"
   ]
  },
  {
   "cell_type": "code",
   "execution_count": 42,
   "metadata": {},
   "outputs": [
    {
     "name": "stdout",
     "output_type": "stream",
     "text": [
      "[0, 1, 2, 3, 4, 1, 2, 3, 4, 5, 2, 3, 4, 5, 6, 3, 4, 5, 6, 7, 4, 5, 6, 7, 8]\n"
     ]
    }
   ],
   "source": [
    "a = [(i+j) for i in range(5) for j in range(5)]  #list comprehension\n",
    "print(a)"
   ]
  },
  {
   "cell_type": "code",
   "execution_count": 43,
   "metadata": {
    "scrolled": false
   },
   "outputs": [
    {
     "name": "stdout",
     "output_type": "stream",
     "text": [
      "Fitting 5 folds for each of 936 candidates, totalling 4680 fits\n"
     ]
    },
    {
     "name": "stderr",
     "output_type": "stream",
     "text": [
      "[Parallel(n_jobs=-1)]: Using backend LokyBackend with 8 concurrent workers.\n",
      "[Parallel(n_jobs=-1)]: Done  25 tasks      | elapsed:    4.6s\n",
      "[Parallel(n_jobs=-1)]: Done 146 tasks      | elapsed:    8.8s\n",
      "[Parallel(n_jobs=-1)]: Done 349 tasks      | elapsed:   16.4s\n",
      "[Parallel(n_jobs=-1)]: Done 632 tasks      | elapsed:   27.2s\n",
      "[Parallel(n_jobs=-1)]: Done 997 tasks      | elapsed:   42.5s\n",
      "[Parallel(n_jobs=-1)]: Done 1442 tasks      | elapsed:  1.0min\n",
      "[Parallel(n_jobs=-1)]: Done 1969 tasks      | elapsed:  1.4min\n",
      "[Parallel(n_jobs=-1)]: Done 2576 tasks      | elapsed:  1.9min\n",
      "[Parallel(n_jobs=-1)]: Done 3265 tasks      | elapsed:  2.4min\n",
      "[Parallel(n_jobs=-1)]: Done 4034 tasks      | elapsed:  3.0min\n",
      "[Parallel(n_jobs=-1)]: Done 4680 out of 4680 | elapsed:  3.5min finished\n"
     ]
    },
    {
     "name": "stdout",
     "output_type": "stream",
     "text": [
      "Best model from training set:\n",
      "\n",
      "{'class_weight': 'balanced', 'max_depth': 13, 'min_samples_leaf': 1, 'n_estimators': 60}\n",
      "\n"
     ]
    }
   ],
   "source": [
    "# Grid Search\n",
    "\n",
    "rf_mdls = GridSearchCV(estimator=learn_alg,param_grid=mdl_params,scoring='f1',cv=5,n_jobs=-1,verbose=2) #use all cores\n",
    "rf_mdls.fit(x_train,y_train)\n",
    "\n",
    "print('Best model from training set:')\n",
    "print()\n",
    "print(rf_mdls.best_params_)\n",
    "print()\n",
    "    "
   ]
  },
  {
   "cell_type": "code",
   "execution_count": 44,
   "metadata": {},
   "outputs": [
    {
     "name": "stdout",
     "output_type": "stream",
     "text": [
      "Training data\n",
      "-------------\n",
      "              precision    recall  f1-score   support\n",
      "\n",
      "         0.0       1.00      0.99      1.00       495\n",
      "         1.0       1.00      1.00      1.00       690\n",
      "\n",
      "    accuracy                           1.00      1185\n",
      "   macro avg       1.00      1.00      1.00      1185\n",
      "weighted avg       1.00      1.00      1.00      1185\n",
      "\n",
      "PPV:\t0.9956709956709957\n",
      "Se:\t1.0\n",
      "FSc:\t0.9978308026030369\n",
      "\n",
      "Validation data\n",
      "---------------\n",
      "              precision    recall  f1-score   support\n",
      "\n",
      "         0.0       0.61      0.55      0.58       140\n",
      "         1.0       0.73      0.78      0.75       224\n",
      "\n",
      "    accuracy                           0.69       364\n",
      "   macro avg       0.67      0.66      0.67       364\n",
      "weighted avg       0.68      0.69      0.69       364\n",
      "\n",
      "PPV:\t0.7341772151898734\n",
      "Se:\t0.7767857142857143\n",
      "FSc:\t0.754880694143167\n"
     ]
    },
    {
     "data": {
      "text/plain": [
       "Text(0.5, 1.0, 'Validation')"
      ]
     },
     "execution_count": 44,
     "metadata": {},
     "output_type": "execute_result"
    },
    {
     "data": {
      "image/png": "[encoded data removed]",
      "text/plain": [
       "<Figure size 432x288 with 2 Axes>"
      ]
     },
     "metadata": {
      "needs_background": "light"
     },
     "output_type": "display_data"
    },
    {
     "data": {
      "image/png": "[encoded data removed]",
      "text/plain": [
       "<Figure size 432x288 with 2 Axes>"
      ]
     },
     "metadata": {
      "needs_background": "light"
     },
     "output_type": "display_data"
    }
   ],
   "source": [
    "best_model = rf_mdls.best_estimator_ # get the best estimator from Grid Search models\n",
    "\n",
    "thr = 0.5\n",
    "print('Training data')\n",
    "print('-------------')\n",
    "y_score0 = best_model.predict_proba(x_train)\n",
    "y_pred0 = np.zeros(x_train.shape[0])\n",
    "y_pred0[np.where(y_score0[:,1] >= thr)[0]] = 1\n",
    "\n",
    "print(classification_report(y_train,y_pred0))\n",
    "metrics = ['PPV','Se','FSc']\n",
    "for i,j in zip(metrics,precision_recall_fscore_support(y_train,y_pred0,average='binary')[:3]):\n",
    "    print('{}:\\t{}'.format(i,j))\n",
    "    \n",
    "\n",
    "p1 = plot_confusion_matrix(best_model, x_train, y_train,\n",
    "                                 \n",
    "                                 cmap=plt.cm.Blues,\n",
    "                                 )\n",
    "p1.ax_.set_title('Training')  \n",
    "    \n",
    "print()\n",
    "print('Validation data')\n",
    "print('---------------')\n",
    "\n",
    "y_scorev = best_model.predict_proba(x_val)\n",
    "y_predv = np.zeros(x_val.shape[0])\n",
    "y_predv[np.where(y_scorev[:,1] >= thr)[0]] = 1\n",
    "\n",
    "\n",
    "print(classification_report(y_val,y_predv))\n",
    "metrics = ['PPV','Se','FSc']\n",
    "for i,j in zip(metrics,precision_recall_fscore_support(y_val,y_predv,average='binary')[:3]):\n",
    "    print('{}:\\t{}'.format(i,j))\n",
    "    \n",
    "\n",
    "p2 = plot_confusion_matrix(best_model, x_val, y_val,\n",
    "                                 \n",
    "                                 cmap=plt.cm.Blues,\n",
    "                                 )\n",
    "p2.ax_.set_title('Validation')  "
   ]
  },
  {
   "cell_type": "raw",
   "metadata": {},
   "source": [
    "The Random Forests model also has a feature importance parameter that is output along with the model. This provides importance values for each of our features."
   ]
  },
  {
   "cell_type": "code",
   "execution_count": 45,
   "metadata": {},
   "outputs": [
    {
     "data": {
      "image/png": "[encoded data removed]",
      "text/plain": [
       "<Figure size 864x720 with 1 Axes>"
      ]
     },
     "metadata": {
      "needs_background": "light"
     },
     "output_type": "display_data"
    }
   ],
   "source": [
    "feat_imp = best_model.feature_importances_  # feature importances\n",
    "feature_names = ['{}_{}'.format(i,win-j) for j in range(win) for i in train.columns if 'label' not in i]\n",
    "\n",
    "feat_df = pd.DataFrame({'feat_imp':feat_imp}, index = feature_names)\n",
    "\n",
    "ax = feat_df.plot.bar(figsize = (12,10),fontsize=14)\n",
    "plt.rc('legend',fontsize=20)\n",
    "a = plt.xticks(rotation=90)\n"
   ]
  },
  {
   "cell_type": "raw",
   "metadata": {},
   "source": [
    "In the above plot, the feature names are of the format <feature_day>. For example, \"humidity_1\" refers to humidity the previous day whereas \"temperature_2\" indicates temperature two days ago. As we can see from this plot, features belonging to the previous day are more significant in predicting rain for the next day compared to further preceding days' features. Also one can note that the most important feature is infact the weather description code for the previous day (rain_prob_1). This makes sense as today's weather would strongly depend on yesterday's weather conditions."
   ]
  },
  {
   "cell_type": "code",
   "execution_count": 46,
   "metadata": {},
   "outputs": [
    {
     "data": {
      "image/png": "[encoded data removed]",
      "text/plain": [
       "<Figure size 720x504 with 1 Axes>"
      ]
     },
     "metadata": {
      "needs_background": "light"
     },
     "output_type": "display_data"
    }
   ],
   "source": [
    "# Computing AUC and ROC curve for random forests model on validation data\n",
    "\n",
    "# fp_rate_rf  : false positive rate for Random Forests  model\n",
    "# tp_rate_rf  : true positive rate for Random Forests  model\n",
    "# auc_rate_rf : AUC for Random Forests  model\n",
    "\n",
    "fp_rate_rf,tp_rate_rf,_ = roc_curve(y_val,y_scorev[:,1]) # column 1 meets criteria where prob >= 0.5 corresponds to class-1\n",
    "auc_val_rf = auc(fp_rate_rf,tp_rate_rf)\n",
    "plt.figure(figsize=(10,7))\n",
    "\n",
    "plt.plot(fp_rate_rf,tp_rate_rf,label='ROC Curve (AUC : {:.2f})'.format(auc_val_rf),color='red')\n",
    "plt.plot([0, 1], [0, 1], color='blue', linestyle='-.')\n",
    "plt.title('ROC curve for Random Forests (Grid search based) model on validation data')\n",
    "plt.xlabel('False Positve Rate')\n",
    "plt.ylabel('True Positve Rate')\n",
    "plt.xlim([0, 1])\n",
    "plt.ylim([0, 1.01])\n",
    "\n",
    "plt.legend()\n",
    "plt.show()"
   ]
  },
  {
   "cell_type": "code",
   "execution_count": null,
   "metadata": {},
   "outputs": [],
   "source": []
  }
 ],
 "metadata": {
  "kernelspec": {
   "display_name": "Python 3",
   "language": "python",
   "name": "python3"
  },
  "language_info": {
   "codemirror_mode": {
    "name": "ipython",
    "version": 3
   },
   "file_extension": ".py",
   "mimetype": "text/x-python",
   "name": "python",
   "nbconvert_exporter": "python",
   "pygments_lexer": "ipython3",
   "version": "3.6.7"
  }
 },
 "nbformat": 4,
 "nbformat_minor": 2
}
